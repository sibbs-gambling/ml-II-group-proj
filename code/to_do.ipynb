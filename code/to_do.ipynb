{
 "cells": [
  {
   "cell_type": "markdown",
   "metadata": {},
   "source": [
    "# To Do List\n",
    "I thought it might work to keep a list of tasks we need to work on so people can push in a certain direction if they want.\n",
    "\n",
    "You can cross things out if you put ~~ around the sentences, like ~~this~~. Feel free to add to this whenever!"
   ]
  },
  {
   "cell_type": "markdown",
   "metadata": {},
   "source": [
    "## Questions\n",
    "\n",
    "- We have tried Euclidean, Dynamic Time Warping (DTW), Minimum Jump Costs (MJC). None seem to be giving us any interesting conclusions. Should we just accept this?\n",
    "\n",
    "__A:__ Using correlation or cointegration could be good.\n",
    "- How to show temporal changes in graphs, is there a good way to do this?\n",
    "\n",
    "__A:__ Kernel smooth the distance matrix over time and then do windowed clustering. See how the network changes over time.\n",
    "- What if we aren't finding anything that interesting?\n",
    "\n",
    "__A:__ That is fine. You could do a trading strategy on yuor clustering to see if they are in fact interesting even if they don't appear so visually. Also remember that most of your presentation should be about the method (aka spectral clustering). \n",
    "\n"
   ]
  },
  {
   "cell_type": "markdown",
   "metadata": {},
   "source": [
    "## Code & Data\n",
    "0. Build 3D matrix of _time x exchange rate x base_ numpy array (preferably so that we can pull a pandas df out of it)\n",
    "1. ~~Get spectral clustering visualized~~\n",
    "2. ~~Implement better distance matrix $D$.~~\n",
    "2. I implemented the distance measure DTW but it is still not satisfactory. We need to find more/better ones!\n",
    "3. Implement another clustering method maybe heirarchical on traditional currency data\n",
    "4. Get cryptocurrency data in the clean 3D form\n",
    "5. Perform the same (or more) methods on this new data and hopefully make cool conclusion"
   ]
  },
  {
   "cell_type": "markdown",
   "metadata": {},
   "source": [
    "## Final Product\n",
    "1. Paper with findings ( < 8 pgs)\n",
    "2. Presentation (8 mins)"
   ]
  },
  {
   "cell_type": "code",
   "execution_count": null,
   "metadata": {},
   "outputs": [],
   "source": []
  }
 ],
 "metadata": {
  "kernelspec": {
   "display_name": "Python 3",
   "language": "python",
   "name": "python3"
  },
  "language_info": {
   "codemirror_mode": {
    "name": "ipython",
    "version": 3
   },
   "file_extension": ".py",
   "mimetype": "text/x-python",
   "name": "python",
   "nbconvert_exporter": "python",
   "pygments_lexer": "ipython3",
   "version": "3.5.4"
  }
 },
 "nbformat": 4,
 "nbformat_minor": 2
}

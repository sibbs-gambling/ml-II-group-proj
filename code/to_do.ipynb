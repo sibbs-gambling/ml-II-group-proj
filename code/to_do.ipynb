{
 "cells": [
  {
   "cell_type": "markdown",
   "metadata": {},
   "source": [
    "# To Do List\n",
    "I thought it might work to keep a list of tasks we need to work on so people can push in a certain direction if they want.\n",
    "\n",
    "You can cross things out if you put ~~ around the sentences, like ~~this~~. Feel free to add to this whenever!"
   ]
  },
  {
   "cell_type": "markdown",
   "metadata": {},
   "source": [
    "0. Build 3D matrix of _time x exchange rate x base_ numpy array (preferably so that we can pull a pandas df out of it)\n",
    "1. Get spectral clustering visualized \n",
    "2. Implement better distance matrix $D$. Refer to paper in docs/ or anything you can find online.\n",
    "3. Implement another clustering method maybe heirarchical on traditional currency data\n",
    "4. Get cryptocurrency data in the clean 3D form\n",
    "5. Perform the same (or more) methods on this new data and hopefully make cool conclusion"
   ]
  }
 ],
 "metadata": {
  "kernelspec": {
   "display_name": "Python 3",
   "language": "python",
   "name": "python3"
  },
  "language_info": {
   "codemirror_mode": {
    "name": "ipython",
    "version": 3
   },
   "file_extension": ".py",
   "mimetype": "text/x-python",
   "name": "python",
   "nbconvert_exporter": "python",
   "pygments_lexer": "ipython3",
   "version": "3.5.4"
  }
 },
 "nbformat": 4,
 "nbformat_minor": 2
}

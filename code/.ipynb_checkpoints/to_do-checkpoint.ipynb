{
 "cells": [
  {
   "cell_type": "markdown",
   "metadata": {},
   "source": [
    "# To Do List\n",
    "I thought it might work to keep a list of tasks we need to work on so people can push in a certain direction if they want.\n",
    "\n",
    "You can cross things out if you put ~~ around the sentences, like ~~this~~. Feel free to add to this whenever!"
   ]
  },
  {
   "cell_type": "markdown",
   "metadata": {},
   "source": [
    "## Code & Data\n",
    "0. ~~Build 3D matrix of _time x exchange rate x base_ numpy array~~ (built a function to do this in crypto_full notebook so no need)\n",
    "1. ~~Get spectral clustering visualized~~\n",
    "2. ~~Implement better distance matrix $D$.~~ (no time in slides so maybe just have Correlation and DTW in paper)\n",
    "2. ~~I implemented the distance measure DTW but it is still not satisfactory. We need to find more/better ones!~~ (not pursuing this anymore)\n",
    "3. ~~Implement another clustering method maybe heirarchical on traditional currency data~~ (not enough space (pages) or time in presentation)\n",
    "4. ~~Get cryptocurrency data in the clean 3D form~~ (again, function written to do this)\n",
    "5. ~~Perform the same (or more) methods on this new data and hopefully make cool conclusion~~ (probably without the cool conclusions though)\n",
    "6. Do a better job of temporal visualization with kernel smooth of correlation matrix over time"
   ]
  },
  {
   "cell_type": "markdown",
   "metadata": {},
   "source": [
    "## Final Product\n",
    "1. Paper with findings ( < 8 pgs)\n",
    "2. Presentation (8 mins)"
   ]
  }
 ],
 "metadata": {
  "kernelspec": {
   "display_name": "Python 3",
   "language": "python",
   "name": "python3"
  },
  "language_info": {
   "codemirror_mode": {
    "name": "ipython",
    "version": 3
   },
   "file_extension": ".py",
   "mimetype": "text/x-python",
   "name": "python",
   "nbconvert_exporter": "python",
   "pygments_lexer": "ipython3",
   "version": "3.5.4"
  }
 },
 "nbformat": 4,
 "nbformat_minor": 2
}

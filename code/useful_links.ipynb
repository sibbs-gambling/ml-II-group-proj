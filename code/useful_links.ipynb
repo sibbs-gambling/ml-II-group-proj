{
 "cells": [
  {
   "cell_type": "markdown",
   "metadata": {},
   "source": [
    "# Useful Links"
   ]
  },
  {
   "cell_type": "markdown",
   "metadata": {},
   "source": [
    "Just wanted to have a place for references that we don't want to put in $\\texttt{docs/}$."
   ]
  },
  {
   "cell_type": "markdown",
   "metadata": {},
   "source": [
    "#### Spectral Clustering\n",
    "- http://scikit-learn.org/stable/modules/generated/sklearn.cluster.SpectralClustering.html\n",
    "- http://mplab.ucsd.edu/wp-content/uploads/CVPR2008/Conference/data/papers/013.pdf\n",
    "- https://en.wikipedia.org/wiki/Spectral_clustering\n",
    "\n",
    "\n",
    "#### Networx Graph Visualization\n",
    "- https://networkx.github.io/documentation/networkx-1.9/examples/graph/atlas.html\n"
   ]
  },
  {
   "cell_type": "code",
   "execution_count": null,
   "metadata": {},
   "outputs": [],
   "source": []
  }
 ],
 "metadata": {
  "kernelspec": {
   "display_name": "Python 3",
   "language": "python",
   "name": "python3"
  },
  "language_info": {
   "codemirror_mode": {
    "name": "ipython",
    "version": 3
   },
   "file_extension": ".py",
   "mimetype": "text/x-python",
   "name": "python",
   "nbconvert_exporter": "python",
   "pygments_lexer": "ipython3",
   "version": "3.5.4"
  }
 },
 "nbformat": 4,
 "nbformat_minor": 2
}
